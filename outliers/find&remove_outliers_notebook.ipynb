{
 "cells": [
  {
   "cell_type": "markdown",
   "metadata": {},
   "source": [
    "#  Visualization is one of the most powerful tools for finding outliers!"
   ]
  },
  {
   "cell_type": "code",
   "execution_count": 3,
   "metadata": {
    "collapsed": false
   },
   "outputs": [
    {
     "name": "stdout",
     "output_type": "stream",
     "text": [
      "('slop:', array([[ 5.07793064]]))\n",
      "('score:', 0.8782624703664671)\n"
     ]
    },
    {
     "data": {
      "image/png": "[encoded data removed]",
      "text/plain": [
       "<matplotlib.figure.Figure at 0x7fe649c94550>"
      ]
     },
     "metadata": {},
     "output_type": "display_data"
    }
   ],
   "source": [
    "import random\n",
    "import numpy\n",
    "import matplotlib.pyplot as plt\n",
    "import pickle\n",
    "\n",
    "from outlier_cleaner import outlierCleaner\n",
    "\n",
    "\n",
    "### load up some practice data with outliers in it\n",
    "ages = pickle.load( open(\"practice_outliers_ages.pkl\", \"r\") )\n",
    "net_worths = pickle.load( open(\"practice_outliers_net_worths.pkl\", \"r\") )\n",
    "\n",
    "\n",
    "\n",
    "### ages and net_worths need to be reshaped into 2D numpy arrays\n",
    "### second argument of reshape command is a tuple of integers: (n_rows, n_columns)\n",
    "### by convention, n_rows is the number of data points\n",
    "### and n_columns is the number of features\n",
    "ages       = numpy.reshape( numpy.array(ages), (len(ages), 1))\n",
    "net_worths = numpy.reshape( numpy.array(net_worths), (len(net_worths), 1))\n",
    "from sklearn.cross_validation import train_test_split\n",
    "ages_train, ages_test, net_worths_train, net_worths_test = train_test_split(ages, net_worths, test_size=0.1, random_state=42)\n",
    "\n",
    "### fill in a regression here!  Name the regression object reg so that\n",
    "### the plotting code below works, and you can see what your regression looks like\n",
    "from sklearn.linear_model import LinearRegression\n",
    "reg = LinearRegression()\n",
    "reg.fit(ages_train, net_worths_train)\n",
    "\n",
    "print('slop:', reg.coef_)\n",
    "\n",
    "pre = reg.predict(ages_test)\n",
    "print('score:', reg.score(ages_test, net_worths_test))\n",
    "\n",
    "#plot fit line\n",
    "plt.plot(ages, reg.predict(ages), color=\"blue\")\n",
    "\n",
    "#plot data point\n",
    "plt.scatter(ages, net_worths)\n",
    "plt.show()"
   ]
  },
  {
   "cell_type": "code",
   "execution_count": 4,
   "metadata": {
    "collapsed": false
   },
   "outputs": [
    {
     "name": "stdout",
     "output_type": "stream",
     "text": [
      "('errors:', [(0, array([ 23.43745027])), (1, array([ 29.56379953])), (2, array([ 45.93320969])), (3, array([ 28.6481987])), (4, array([ 18.27443786])), (5, array([ 32.22658686])), (6, array([ 49.19921993])), (7, array([ 16.86467506])), (8, array([ 4.24268037])), (9, array([ 73.95521804])), (10, array([ 49.67490995])), (11, array([ 7.67556106])), (12, array([ 20.10022854])), (13, array([ 7.6390935])), (14, array([ 0.60619723])), (15, array([ 16.28734891])), (16, array([ 50.5069166])), (17, array([ 321.08523899])), (18, array([ 10.25463581])), (19, array([ 44.39761907])), (20, array([ 15.87436572])), (21, array([ 33.43864239])), (22, array([ 0.08308172])), (23, array([ 30.75722734])), (24, array([ 88.83562165])), (25, array([ 29.8827765])), (26, array([ 8.51185672])), (27, array([ 66.37859364])), (28, array([ 3.1162265])), (29, array([ 10.30456326])), (30, array([ 18.27632782])), (31, array([ 34.60744289])), (32, array([ 17.09626824])), (33, array([ 196.58566667])), (34, array([ 10.43360338])), (35, array([ 30.01470844])), (36, array([ 19.43844929])), (37, array([ 18.03085773])), (38, array([ 5.40640002])), (39, array([ 29.4856151])), (40, array([ 38.91476278])), (41, array([ 40.41265628])), (42, array([ 36.16218486])), (43, array([ 17.37834951])), (44, array([ 11.11119564])), (45, array([ 14.13141339])), (46, array([ 77.87046551])), (47, array([ 59.02051758])), (48, array([ 46.94727303])), (49, array([ 10.84085296])), (50, array([ 10.34849938])), (51, array([ 195.69834202])), (52, array([ 52.84136738])), (53, array([ 7.44619331])), (54, array([ 24.63822403])), (55, array([ 19.4740929])), (56, array([ 6.29313241])), (57, array([ 21.87305708])), (58, array([ 28.50819739])), (59, array([ 184.57280156])), (60, array([ 28.62724978])), (61, array([ 4.00286992])), (62, array([ 13.06111971])), (63, array([ 39.09374272])), (64, array([ 227.49536784])), (65, array([ 30.72540684])), (66, array([ 35.76666409])), (67, array([ 26.09108565])), (68, array([ 89.22397446])), (69, array([ 37.66744719])), (70, array([ 10.64138316])), (71, array([ 3.15874195])), (72, array([ 8.14409491])), (73, array([ 24.04336322])), (74, array([ 3.36185108])), (75, array([ 1.24224214])), (76, array([ 31.22205899])), (77, array([ 25.24996863])), (78, array([ 22.05911264])), (79, array([ 31.76398298])), (80, array([ 188.04935614])), (81, array([ 19.0014558])), (82, array([ 69.28252898])), (83, array([ 58.26304975])), (84, array([ 70.91090716])), (85, array([ 41.39100187])), (86, array([ 79.39107925])), (87, array([ 2.27697972])), (88, array([ 188.4581143])), (89, array([ 1.07834419]))])\n",
      "('maxErrors', [(24, array([ 88.83562165])), (68, array([ 89.22397446])), (59, array([ 184.57280156])), (80, array([ 188.04935614])), (88, array([ 188.4581143])), (51, array([ 195.69834202])), (33, array([ 196.58566667])), (64, array([ 227.49536784])), (17, array([ 321.08523899]))])\n",
      "('maxErrorsIndexs', [24, 68, 59, 80, 88, 51, 33, 64, 17])\n",
      "('data count:', 81)\n",
      "cleaned_data [(57, 338.08951848957577, 0), (57, 344.21586775541203, 1), (34, 243.79287311628013, 2), (64, 378.84578142088196, 3), (25, 133.88384977349668, 4), (53, 326.56693250553326, 5), (62, 389.24094136476344, 6), (41, 250.26985299068266, 7), (21, 136.08924543132068, 8), (53, 368.29556369017877, 9), (48, 318.62560238232396, 10), (24, 139.40479592465923, 11), (24, 126.98012845155395, 12), (30, 185.1870343522352, 13), (32, 187.09760490789751, 14), (45, 270.00424941518054, 15), (52, 339.76933159990818, 16), (21, 142.1012008717193, 18), (60, 374.28347921780096, 19), (43, 259.43540492859483, 20), (32, 221.14244452437831, 21), (30, 177.46485912830926, 22), (58, 350.48722620162391, 23), (51, 314.06726086101639, 25), (30, 186.05979756839332, 26), (55, 370.87480057141647, 27), (45, 256.83312700057957, 28), (30, 167.24337759331152, 29), (36, 189.73919689274533, 30), (37, 247.70089824206377, 31), (23, 159.09869458305818, 32), (24, 157.51396036691344, 34), (20, 96.753925973294173, 35), (32, 207.14225143023492, 36), (35, 220.96845179419734, 37), (45, 259.12330051987942, 38), (29, 142.98439510684403, 39), (64, 389.11234550949632, 40), (30, 217.96059712816052, 41), (47, 300.0349466519055, 42), (59, 342.18627902203139, 43), (39, 234.36051228130097, 44), (32, 201.83521553071006, 45), (61, 412.83425631014785, 46), (58, 378.75051644788397, 47), (58, 366.67727190009509, 48), (22, 147.76534866226712, 49), (27, 151.96564953554724, 50), (49, 326.86999044991904, 52), (33, 200.22792608821422, 53), (37, 237.73167938789589, 54), (21, 151.32065795784047, 55), (24, 140.78722458080426, 56), (34, 219.73272050095269, 57), (49, 302.53682046672367, 58), (31, 153.99862170798215, 60), (22, 140.9273656237994, 61), (27, 175.37526862807127, 62), (49, 313.12236579136925, 63), (53, 325.06575248297571, 65), (38, 253.93805008750448, 66), (44, 274.7300555052413, 67), (37, 250.76090254244718, 69), (51, 294.82586751838659, 70), (38, 221.33012794213624, 71), (48, 260.8065975224045, 72), (47, 287.91612500413447, 73), (21, 128.4847139765763, 74), (32, 186.46155999388083, 75), (52, 320.48447399026929, 76), (32, 212.95377076201385, 77), (27, 140.25503627573087, 78), (43, 275.32502219319372, 79), (50, 260.1050979182051, 81), (65, 424.5580423540415, 82), (46, 317.0578808948303, 83), (57, 385.56297537843108, 84), (65, 396.66651524309418, 85), (63, 424.51073132931936, 86), (49, 271.75164334973937, 87), (29, 173.54835439167368, 89)]\n"
     ]
    }
   ],
   "source": [
    "### identify and remove the most outlier-y points\n",
    "cleaned_data = []\n",
    "try:\n",
    "    predictions = reg.predict(ages_train)\n",
    "    cleaned_data = outlierCleaner( predictions, ages_train, net_worths_train )\n",
    "    print 'cleaned_data', cleaned_data\n",
    "except NameError:\n",
    "    print \"your regression object doesn't exist, or isn't name reg\"\n",
    "    print \"can't make predictions to use in identifying outliers\"\n"
   ]
  },
  {
   "cell_type": "code",
   "execution_count": 5,
   "metadata": {
    "collapsed": false
   },
   "outputs": [
    {
     "name": "stdout",
     "output_type": "stream",
     "text": [
      "new slop: [[ 6.36859481]]\n",
      "new score: 0.983189455396\n"
     ]
    },
    {
     "data": {
      "image/png": "[encoded data removed]",
      "text/plain": [
       "<matplotlib.figure.Figure at 0x7fe649cbe510>"
      ]
     },
     "metadata": {},
     "output_type": "display_data"
    }
   ],
   "source": [
    "### only run this code if cleaned_data is returning data\n",
    "if len(cleaned_data) > 0:\n",
    "    ages, net_worths, errors = zip(*cleaned_data)\n",
    "    ages       = numpy.reshape( numpy.array(ages), (len(ages), 1))\n",
    "    net_worths = numpy.reshape( numpy.array(net_worths), (len(net_worths), 1))\n",
    "\n",
    "    ### refit your cleaned data!\n",
    "    try:\n",
    "        reg.fit(ages, net_worths)\n",
    "        print 'new slop:', reg.coef_\n",
    "\n",
    "        print 'new score:', reg.score(ages_test, net_worths_test)\n",
    "\n",
    "        plt.plot(ages, reg.predict(ages), color=\"red\")\n",
    "    except NameError:\n",
    "        print \"you don't seem to have regression imported/created,\"\n",
    "        print \"   or else your regression object isn't named reg\"\n",
    "        print \"   either way, only draw the scatter plot of the cleaned data\"\n",
    "    plt.scatter(ages, net_worths)\n",
    "    plt.xlabel(\"ages\")\n",
    "    plt.ylabel(\"net worths\")\n",
    "    plt.show()\n",
    "\n",
    "\n",
    "else:\n",
    "    print \"outlierCleaner() is returning an empty list, no refitting to be done\""
   ]
  },
  {
   "cell_type": "code",
   "execution_count": 35,
   "metadata": {
    "collapsed": false
   },
   "outputs": [
    {
     "name": "stdout",
     "output_type": "stream",
     "text": [
      "67\n",
      "OLSON CINDY K\n",
      "{'salary': 329078, 'to_messages': 1184, 'deferral_payments': 77716, 'total_payments': 1321557, 'exercised_stock_options': 1637034, 'bonus': 750000, 'restricted_stock': 969729, 'shared_receipt_with_poi': 856, 'restricted_stock_deferred': 'NaN', 'total_stock_value': 2606763, 'expenses': 63791, 'loan_advances': 'NaN', 'from_messages': 52, 'other': 972, 'from_this_person_to_poi': 15, 'poi': False, 'director_fees': 'NaN', 'deferred_income': 'NaN', 'long_term_incentive': 100000, 'email_address': 'cindy.olson@enron.com', 'from_poi_to_this_person': 20}\n"
     ]
    },
    {
     "data": {
      "image/png": "[encoded data removed]",
      "text/plain": [
       "<matplotlib.figure.Figure at 0x7fe649b22d50>"
      ]
     },
     "metadata": {},
     "output_type": "display_data"
    }
   ],
   "source": [
    "#!/usr/bin/python\n",
    "\n",
    "import pickle\n",
    "import sys\n",
    "import matplotlib.pyplot\n",
    "sys.path.append(\"../tools/\")\n",
    "from feature_format import featureFormat, targetFeatureSplit\n",
    "\n",
    "\n",
    "### read in data dictionary, convert to numpy array\n",
    "data_dict = pickle.load( open(\"../final_project/final_project_dataset.pkl\", \"r\") )\n",
    "features = [\"salary\", \"bonus\"]\n",
    "data = featureFormat(data_dict, features)\n",
    "\n",
    "\n",
    "### your code below\n",
    "\n",
    "\n",
    "\n",
    "nr = sorted(data[:,0])\n",
    "salarylist = list(data[:,0])\n",
    "index = salarylist.index(nr[-1])\n",
    "print index\n",
    "suspisionname = data_dict.keys()[index]\n",
    "print suspisionname\n",
    "print data_dict[suspisionname]\n",
    "\n",
    "for point in data:\n",
    "    salary = point[0]\n",
    "    bonus = point[1]\n",
    "    matplotlib.pyplot.scatter( salary, bonus )\n",
    "\n",
    "matplotlib.pyplot.xlabel(\"salary\")\n",
    "matplotlib.pyplot.ylabel(\"bonus\")\n",
    "matplotlib.pyplot.show()\n",
    "\n"
   ]
  }
 ],
 "metadata": {
  "anaconda-cloud": {},
  "kernelspec": {
   "display_name": "Python 2",
   "language": "python",
   "name": "python2"
  },
  "language_info": {
   "codemirror_mode": {
    "name": "ipython",
    "version": 2
   },
   "file_extension": ".py",
   "mimetype": "text/x-python",
   "name": "python",
   "nbconvert_exporter": "python",
   "pygments_lexer": "ipython2",
   "version": "2.7.13"
  }
 },
 "nbformat": 4,
 "nbformat_minor": 2
}
